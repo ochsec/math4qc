{
 "cells": [
  {
   "cell_type": "code",
   "execution_count": 1,
   "metadata": {},
   "outputs": [],
   "source": [
    "fav_color = 'blue'\n",
    "A = (4 == 4)\n",
    "B = True\n",
    "C = (fav_color == 'green')\n",
    "D = False"
   ]
  },
  {
   "cell_type": "code",
   "execution_count": 2,
   "metadata": {},
   "outputs": [
    {
     "data": {
      "text/plain": [
       "True"
      ]
     },
     "execution_count": 2,
     "metadata": {},
     "output_type": "execute_result"
    }
   ],
   "source": [
    "\"\"\"Evaluation Sequence: not, and, or\"\"\"\n",
    "(A and (B or C)) == ((A and B) or (A and C))"
   ]
  },
  {
   "cell_type": "code",
   "execution_count": 3,
   "metadata": {},
   "outputs": [
    {
     "data": {
      "text/plain": [
       "True"
      ]
     },
     "execution_count": 3,
     "metadata": {},
     "output_type": "execute_result"
    }
   ],
   "source": [
    "((A or B) and (C or D)) == ((A and C) or (A and D) or (B and C) or (B and D))"
   ]
  },
  {
   "cell_type": "code",
   "execution_count": 4,
   "metadata": {},
   "outputs": [
    {
     "data": {
      "text/plain": [
       "True"
      ]
     },
     "execution_count": 4,
     "metadata": {},
     "output_type": "execute_result"
    }
   ],
   "source": [
    "\"\"\"and is like multiplication, or is like addition\"\"\"\n",
    "(A + B)*(C + D) == A*C + A*D + B*C + B*D"
   ]
  },
  {
   "cell_type": "code",
   "execution_count": 5,
   "metadata": {},
   "outputs": [
    {
     "data": {
      "text/plain": [
       "True"
      ]
     },
     "execution_count": 5,
     "metadata": {},
     "output_type": "execute_result"
    }
   ],
   "source": [
    "not (A or B) == (not A and not B)"
   ]
  },
  {
   "cell_type": "code",
   "execution_count": 6,
   "metadata": {},
   "outputs": [
    {
     "data": {
      "text/plain": [
       "True"
      ]
     },
     "execution_count": 6,
     "metadata": {},
     "output_type": "execute_result"
    }
   ],
   "source": [
    "not (A and B) == (not A or not B)"
   ]
  },
  {
   "cell_type": "code",
   "execution_count": 7,
   "metadata": {},
   "outputs": [
    {
     "data": {
      "text/plain": [
       "True"
      ]
     },
     "execution_count": 7,
     "metadata": {},
     "output_type": "execute_result"
    }
   ],
   "source": [
    "not (not A) == A"
   ]
  },
  {
   "cell_type": "code",
   "execution_count": 8,
   "metadata": {},
   "outputs": [
    {
     "data": {
      "text/plain": [
       "True"
      ]
     },
     "execution_count": 8,
     "metadata": {},
     "output_type": "execute_result"
    }
   ],
   "source": [
    "(A and B and (C or D)) == ((A and B and C) or (A and B and D)) == A*B*(C + D) == A*B*C + A*B*D"
   ]
  },
  {
   "cell_type": "code",
   "execution_count": 9,
   "metadata": {},
   "outputs": [
    {
     "data": {
      "text/plain": [
       "True"
      ]
     },
     "execution_count": 9,
     "metadata": {},
     "output_type": "execute_result"
    }
   ],
   "source": [
    "\"\"\"Special Rule for not: and changes to or\"\"\"\n",
    "(A or not (B and C)) == A or not B or not C"
   ]
  },
  {
   "cell_type": "code",
   "execution_count": 10,
   "metadata": {},
   "outputs": [],
   "source": [
    "\"\"\"Logic Gates\"\"\"\n",
    "True == 1 # Circuit On\n",
    "False == 0 # Circuit Off\n",
    "\n",
    "\"\"\"Example\"\"\"\n",
    "D = not ((A and B) or C)"
   ]
  },
  {
   "cell_type": "code",
   "execution_count": 11,
   "metadata": {},
   "outputs": [],
   "source": [
    "\"\"\"AND Gate\"\"\"\n",
    "C = A and B\n",
    "D = A and B and C"
   ]
  },
  {
   "cell_type": "code",
   "execution_count": 12,
   "metadata": {},
   "outputs": [],
   "source": [
    "\"\"\"OR Gate\"\"\"\n",
    "C = A or B\n",
    "D = A or B or C"
   ]
  },
  {
   "cell_type": "code",
   "execution_count": 13,
   "metadata": {},
   "outputs": [],
   "source": [
    "\"\"\"NOT Gate\"\"\"\n",
    "C = not A"
   ]
  },
  {
   "cell_type": "code",
   "execution_count": 14,
   "metadata": {},
   "outputs": [
    {
     "data": {
      "text/plain": [
       "'If 2 or more functions have identical truth tables,\\nthe functions are identical'"
      ]
     },
     "execution_count": 14,
     "metadata": {},
     "output_type": "execute_result"
    }
   ],
   "source": [
    "\"\"\"Equivalent Circuits 1\"\"\"\n",
    "C = not (not A or not B)\n",
    "C == (not ((not A) and (not (not B)))) # Expansion\n",
    "C == A and B # Reduction\n",
    "\"\"\"If 2 or more functions have identical truth tables,\n",
    "the functions are identical\"\"\""
   ]
  },
  {
   "cell_type": "code",
   "execution_count": 15,
   "metadata": {},
   "outputs": [
    {
     "data": {
      "text/plain": [
       "True"
      ]
     },
     "execution_count": 15,
     "metadata": {},
     "output_type": "execute_result"
    }
   ],
   "source": [
    "\"\"\"Equivalent Circuits 2\"\"\"\n",
    "C = not (not A and not B)\n",
    "C == (not (not A or (not (not B))))\n",
    "C == A or B"
   ]
  },
  {
   "cell_type": "code",
   "execution_count": 16,
   "metadata": {},
   "outputs": [
    {
     "name": "stdout",
     "output_type": "stream",
     "text": [
      "True\n",
      "True\n",
      "True\n"
     ]
    }
   ],
   "source": [
    "\"\"\"Universal Gate: NAND\"\"\"\n",
    "def nand(x, y):\n",
    "    return not(x and y)\n",
    "\n",
    "\"\"\"NAND can be configured to act as AND, OR, NOT\"\"\"\n",
    "C = nand(A, B) # NOT gate\n",
    "print(C == (A and not B))\n",
    "C = nand(nand(A, B), B) # AND gate\n",
    "print(C == (A and B))\n",
    "C = nand(nand(A, B), nand(A, B)) # OR gate\n",
    "print(C == (A or B))"
   ]
  },
  {
   "cell_type": "code",
   "execution_count": 17,
   "metadata": {},
   "outputs": [
    {
     "name": "stdout",
     "output_type": "stream",
     "text": [
      "A: True, B: True\n",
      "False\n"
     ]
    }
   ],
   "source": [
    "\"\"\"Exlusive-OR\"\"\"\n",
    "def xor(x, y):\n",
    "    return not(not(x or y) or (x and y))\n",
    "\n",
    "\"\"\"In many quantum computing architectures, an atomic xor is available\n",
    "but an assignment is not. The preferred way to compute A xor B is to\n",
    "xor B onto A in an atomic operation.\"\"\"\n",
    "\n",
    "print(f\"A: {A}, B: {B}\")\n",
    "A = xor(A, B)\n",
    "print(A)"
   ]
  },
  {
   "cell_type": "code",
   "execution_count": 18,
   "metadata": {},
   "outputs": [
    {
     "name": "stdout",
     "output_type": "stream",
     "text": [
      "True\n"
     ]
    }
   ],
   "source": [
    "\"\"\"The xor can be used to perform variable assignment\"\"\"\n",
    "\n",
    "\"\"\"A can be initialized to 0 very early in a quantum computation,\n",
    "before the value of B is available.\n",
    "\n",
    "When B becomes available, we xor it onto A\"\"\"\n",
    "A = B\n",
    "# Replace with:\n",
    "A = 0\n",
    "B = 1\n",
    "A = xor(A, B)\n",
    "print(A)"
   ]
  },
  {
   "cell_type": "code",
   "execution_count": 19,
   "metadata": {},
   "outputs": [
    {
     "name": "stdout",
     "output_type": "stream",
     "text": [
      "[True, False, True, False, True, False, False, True, False, True, True]\n"
     ]
    }
   ],
   "source": [
    "\"\"\"XOR of Bit Sequences\"\"\"\n",
    "\n",
    "\"\"\"Bit sequences can be XORed. The result is another bit sequence of \n",
    "the same length.\"\"\"\n",
    "\n",
    "X = (1, 1, 0, 1, 1, 1, 0, 0, 1, 0, 1)\n",
    "Y = (0, 1, 1, 1, 0, 1, 0, 1, 1, 1, 0)\n",
    "Z = []\n",
    "\n",
    "for a, b in zip(X, Y):\n",
    "    Z.append(xor(a, b))\n",
    "print(Z)"
   ]
  },
  {
   "cell_type": "code",
   "execution_count": 20,
   "metadata": {},
   "outputs": [
    {
     "name": "stdout",
     "output_type": "stream",
     "text": [
      "True\n",
      "True\n"
     ]
    }
   ],
   "source": [
    "\"\"\"XOR of Bit Sequences 2\"\"\"\n",
    "\n",
    "\"\"\"If we XOR a value twice, we get the original value\"\"\"\n",
    "\n",
    "# A = 1, B = 0\n",
    "A, B, C = 1, 0, 0\n",
    "C = xor(xor(A, B), B)\n",
    "print(A == C)\n",
    "# A = 1, B = 1\n",
    "A, B, C = 1, 1, 0\n",
    "D = xor(xor(A, B), B)\n",
    "print(A == D)\n"
   ]
  },
  {
   "cell_type": "code",
   "execution_count": 21,
   "metadata": {},
   "outputs": [
    {
     "name": "stdout",
     "output_type": "stream",
     "text": [
      "A XOR B: [True, True, False, False, False, True, False, True, False, True]\n",
      "A XOR B XOR B: [True, False, True, False, True, True, True, False, False, True]\n"
     ]
    }
   ],
   "source": [
    "\"\"\"XOR XOR of Bit Sequences\"\"\"\n",
    "\n",
    "A = (1, 0, 1, 0, 1, 1, 1, 0, 0, 1)\n",
    "B = (0, 1, 1, 0, 1, 0, 1, 1, 0, 0)\n",
    "C = []\n",
    "D = []\n",
    "\n",
    "for a, b in zip(A, B):\n",
    "    C.append(xor(a, b))\n",
    "    \n",
    "print(f\"A XOR B: {C}\")\n",
    "\n",
    "for a, b in zip(C, B):\n",
    "    D.append(xor(a, b))\n",
    "    \n",
    "\"\"\"A XOR B XOR B = A\"\"\"\n",
    "print(f\"A XOR B XOR B: {D}\")"
   ]
  }
 ],
 "metadata": {
  "kernelspec": {
   "display_name": "Python 3",
   "language": "python",
   "name": "python3"
  },
  "language_info": {
   "codemirror_mode": {
    "name": "ipython",
    "version": 3
   },
   "file_extension": ".py",
   "mimetype": "text/x-python",
   "name": "python",
   "nbconvert_exporter": "python",
   "pygments_lexer": "ipython3",
   "version": "3.8.2"
  }
 },
 "nbformat": 4,
 "nbformat_minor": 4
}
