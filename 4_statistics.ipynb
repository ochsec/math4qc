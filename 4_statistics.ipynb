{
 "cells": [
  {
   "cell_type": "code",
   "execution_count": 17,
   "metadata": {},
   "outputs": [
    {
     "name": "stdout",
     "output_type": "stream",
     "text": [
      "Dice: 3.5\n",
      "Loaded dice: 4.2\n"
     ]
    }
   ],
   "source": [
    "\"\"\"Average (Mean)\"\"\"\n",
    "def mean(v):\n",
    "    sum = 0\n",
    "    for i in v:\n",
    "        sum = sum + i.get(\"pv\") * i.get(\"val\")\n",
    "        \n",
    "    return sum\n",
    "\n",
    "dice = [\n",
    "    {\"pv\": 1/6, \"val\": 1},\n",
    "    {\"pv\": 1/6, \"val\": 2},\n",
    "    {\"pv\": 1/6, \"val\": 3},\n",
    "    {\"pv\": 1/6, \"val\": 4},\n",
    "    {\"pv\": 1/6, \"val\": 5},\n",
    "    {\"pv\": 1/6, \"val\": 6}\n",
    "]\n",
    "\n",
    "print(f\"Dice: {mean(dice)}\")\n",
    "\n",
    "loaded_dice = [\n",
    "    {\"pv\": 1/10, \"val\": 1},\n",
    "    {\"pv\": 1/10, \"val\": 2},\n",
    "    {\"pv\": 1/10, \"val\": 3},\n",
    "    {\"pv\": 1/5, \"val\": 4},\n",
    "    {\"pv\": 1/5, \"val\": 5},\n",
    "    {\"pv\": 3/10, \"val\": 6}\n",
    "]\n",
    "\n",
    "print(f\"Loaded dice: {mean(loaded_dice)}\")"
   ]
  },
  {
   "cell_type": "code",
   "execution_count": 32,
   "metadata": {},
   "outputs": [
    {
     "name": "stdout",
     "output_type": "stream",
     "text": [
      "Standard deviation of balanced dice: 1.707825127659933\n",
      "Standard deviation of loaded dice: 1.661324772583615\n"
     ]
    }
   ],
   "source": [
    "\"\"\"Standard Deviation\"\"\"\n",
    "\n",
    "\"\"\"\n",
    "\"Uncertainty\" = Standard deviation of measured values\n",
    "\"\"\"\n",
    "\n",
    "def sd(v):\n",
    "    m = mean(v)\n",
    "    n = len(v)\n",
    "    variance = 0\n",
    "    for i in v:\n",
    "        variance = variance + i.get(\"pv\") * ((i.get(\"val\") - m) ** 2)\n",
    "        \n",
    "    return variance ** 0.5\n",
    "\n",
    "print(f\"Standard deviation of balanced dice: {sd(dice)}\")\n",
    "print(f\"Standard deviation of loaded dice: {sd(loaded_dice)}\")"
   ]
  },
  {
   "cell_type": "code",
   "execution_count": 36,
   "metadata": {},
   "outputs": [
    {
     "name": "stdout",
     "output_type": "stream",
     "text": [
      "Outcomes of RVa * RBv: (1, -1, -1, 1)\n"
     ]
    }
   ],
   "source": [
    "\"\"\"Combinations of Random Variables\"\"\"\n",
    "\n",
    "\"\"\"\n",
    "E(X+Y) = E(X) + E(Y)\n",
    "E() is estimate, mean or average\n",
    "\"\"\"\n",
    "\n",
    "RVa = (-1, 1) # Outcomes of random variable A\n",
    "RVb = (-1, 1) # Outcomes of random variable B\n",
    "\n",
    "outcomes = (RVa[0]*RVb[0], RVa[0]*RVb[1], RVa[1]*RVb[0], RVa[1]*RVb[1])\n",
    "print(f\"Outcomes of RVa * RBv: {outcomes}\")"
   ]
  },
  {
   "cell_type": "code",
   "execution_count": null,
   "metadata": {},
   "outputs": [],
   "source": []
  }
 ],
 "metadata": {
  "kernelspec": {
   "display_name": "Python 3",
   "language": "python",
   "name": "python3"
  },
  "language_info": {
   "codemirror_mode": {
    "name": "ipython",
    "version": 3
   },
   "file_extension": ".py",
   "mimetype": "text/x-python",
   "name": "python",
   "nbconvert_exporter": "python",
   "pygments_lexer": "ipython3",
   "version": "3.8.2"
  }
 },
 "nbformat": 4,
 "nbformat_minor": 4
}
