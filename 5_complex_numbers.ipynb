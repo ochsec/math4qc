{
 "cells": [
  {
   "cell_type": "code",
   "execution_count": 1,
   "metadata": {},
   "outputs": [
    {
     "name": "stdout",
     "output_type": "stream",
     "text": [
      "1j\n"
     ]
    }
   ],
   "source": [
    "import cmath\n",
    "import numpy\n",
    "\n",
    "\"\"\"Imaginary i\"\"\"\n",
    "\n",
    "i = cmath.sqrt(-1)\n",
    "print(i)"
   ]
  },
  {
   "cell_type": "code",
   "execution_count": 2,
   "metadata": {},
   "outputs": [
    {
     "name": "stdout",
     "output_type": "stream",
     "text": [
      "(4+6j)\n",
      "(2+4j)\n"
     ]
    }
   ],
   "source": [
    "\"\"\"Addition\"\"\"\n",
    "\n",
    "print((1 + 2j) + (3 + 4j))\n",
    "print((4 - 3j) + (-2 + 7j))"
   ]
  },
  {
   "cell_type": "code",
   "execution_count": 3,
   "metadata": {},
   "outputs": [
    {
     "name": "stdout",
     "output_type": "stream",
     "text": [
      "(2+1j)\n",
      "(7-10j)\n"
     ]
    }
   ],
   "source": [
    "\"\"\"Subtraction\"\"\"\n",
    "\n",
    "print((6 + 3j) - (4 + 2j))\n",
    "print((5 - 7j) - (-2 + 3j))"
   ]
  },
  {
   "cell_type": "code",
   "execution_count": 4,
   "metadata": {},
   "outputs": [
    {
     "name": "stdout",
     "output_type": "stream",
     "text": [
      "(6+9j)\n",
      "(-8+12j)\n"
     ]
    }
   ],
   "source": [
    "\"\"\"Multiplication by a Real\"\"\"\n",
    "\n",
    "print(3 * (2 + 3j))\n",
    "print(-4 * (2 - 3j))"
   ]
  },
  {
   "cell_type": "code",
   "execution_count": 5,
   "metadata": {},
   "outputs": [
    {
     "name": "stdout",
     "output_type": "stream",
     "text": [
      "(2+3j)\n",
      "(2-3j)\n"
     ]
    }
   ],
   "source": [
    "\"\"\"Division by a Real\"\"\"\n",
    "\n",
    "print((4 + 6j) / 2)\n",
    "print(1/3 * (6 - 9j))"
   ]
  },
  {
   "cell_type": "code",
   "execution_count": 6,
   "metadata": {},
   "outputs": [
    {
     "name": "stdout",
     "output_type": "stream",
     "text": [
      "(-2+1j)\n",
      "(-9+38j)\n"
     ]
    }
   ],
   "source": [
    "\"\"\"Complex Multiplication\"\"\"\n",
    "\n",
    "print(1j * (1 + 2j))\n",
    "print((3 + 4j) * (5 + 6j))"
   ]
  },
  {
   "cell_type": "code",
   "execution_count": 7,
   "metadata": {},
   "outputs": [
    {
     "name": "stdout",
     "output_type": "stream",
     "text": [
      "(2-3j)\n",
      "(2+3j)\n"
     ]
    }
   ],
   "source": [
    "\"\"\"Complex Conjugates\"\"\"\n",
    "\n",
    "\"\"\"\n",
    "complex conjugate of a complex number is the same number with the sign\n",
    "of the complex part reversed.\n",
    "\"\"\"\n",
    "\n",
    "print(numpy.conj(2 + 3j))\n",
    "print(numpy.conj(2 - 3j))"
   ]
  },
  {
   "cell_type": "code",
   "execution_count": 8,
   "metadata": {},
   "outputs": [
    {
     "name": "stdout",
     "output_type": "stream",
     "text": [
      "(13+0j)\n"
     ]
    }
   ],
   "source": [
    "\"\"\"Squared Magnitude\"\"\"\n",
    "\n",
    "\"\"\"\n",
    "Multiply a complex number by its complex conjugate to get its squared\n",
    "magnitude\n",
    "\"\"\"\n",
    "\n",
    "print((2 + 3j) * numpy.conj(2 + 3j))"
   ]
  },
  {
   "cell_type": "code",
   "execution_count": 9,
   "metadata": {},
   "outputs": [
    {
     "name": "stdout",
     "output_type": "stream",
     "text": [
      "(0.44000000000000006+0.08000000000000002j)\n",
      "(0.44+0.08j)\n"
     ]
    }
   ],
   "source": [
    "\"\"\"Complex Division\"\"\"\n",
    "\n",
    "\"\"\"\n",
    "Multply both the numerator and denominator by the complex conjugate of\n",
    "the denominator.\n",
    "\"\"\"\n",
    "\n",
    "# Using complex conjugate \"by hand\" - lower precision\n",
    "print(((1 + 2j)*numpy.conj(1 + 2j))/((3 + 4j)*numpy.conj(1 + 2j)))\n",
    "# Using Python - higher precision\n",
    "print((1 + 2j)/(3 + 4j))"
   ]
  },
  {
   "cell_type": "code",
   "execution_count": 10,
   "metadata": {},
   "outputs": [
    {
     "name": "stdout",
     "output_type": "stream",
     "text": [
      "(-2+5j)\n"
     ]
    }
   ],
   "source": [
    "print((8 + 9j)/(1 - 2j))"
   ]
  },
  {
   "cell_type": "code",
   "execution_count": 11,
   "metadata": {},
   "outputs": [
    {
     "name": "stdout",
     "output_type": "stream",
     "text": [
      "True\n"
     ]
    }
   ],
   "source": [
    "\"\"\"Euler's Formula\"\"\"\n",
    "\n",
    "\"\"\"e^ix = cos(x) + i*sin(x)\"\"\"\n",
    "\n",
    "print(numpy.e ** 2j == (numpy.cos(2) + 1j*numpy.sin(2)))"
   ]
  },
  {
   "cell_type": "code",
   "execution_count": 13,
   "metadata": {},
   "outputs": [
    {
     "name": "stdout",
     "output_type": "stream",
     "text": [
      "(7.0710678118654755+7.071067811865475j)\n"
     ]
    }
   ],
   "source": [
    "\"\"\"Polar Form\"\"\"\n",
    "\n",
    "\"\"\"\n",
    "Any complex number a + bi can be written as re^ix where \n",
    "r = sqrt(a^2 + b^2) and cos(x) = a/r\n",
    "--> x = cos^-1(a/sqrt(a^2 + b^2))\n",
    "\"\"\"\n",
    "\n",
    "# Example: Convert 10*e^(i*PI/4) to the form a + bi\n",
    "print(10*numpy.e**(numpy.pi*1j/4))"
   ]
  },
  {
   "cell_type": "code",
   "execution_count": 27,
   "metadata": {},
   "outputs": [
    {
     "name": "stdout",
     "output_type": "stream",
     "text": [
      "True\n",
      "Fractional power of (2 - 2i)^(2/3)\n",
      "(0.37341637132361183+1.5428552470718866j)\n"
     ]
    }
   ],
   "source": [
    "\"\"\"Fractional Powers\"\"\"\n",
    "\n",
    "\"\"\"\n",
    "Convert to polar form:\n",
    "1 = r*e^ix = 1*e^i*0; x=0, r=1\n",
    "\"\"\"\n",
    "# verify equality with cube root of 1\n",
    "print((numpy.e**(0j))**(1/3) == 1)\n",
    "print(\"Fractional power of (2 - 2i)^(2/3)\")\n",
    "print((2*numpy.e**(2j))**(2/3))"
   ]
  },
  {
   "cell_type": "code",
   "execution_count": null,
   "metadata": {},
   "outputs": [],
   "source": []
  }
 ],
 "metadata": {
  "kernelspec": {
   "display_name": "Python 3",
   "language": "python",
   "name": "python3"
  },
  "language_info": {
   "codemirror_mode": {
    "name": "ipython",
    "version": 3
   },
   "file_extension": ".py",
   "mimetype": "text/x-python",
   "name": "python",
   "nbconvert_exporter": "python",
   "pygments_lexer": "ipython3",
   "version": "3.8.2"
  }
 },
 "nbformat": 4,
 "nbformat_minor": 4
}
