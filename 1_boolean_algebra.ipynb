{
 "cells": [
  {
   "cell_type": "code",
   "execution_count": 22,
   "metadata": {},
   "outputs": [],
   "source": [
    "fav_color = 'blue'\n",
    "A = (4 == 4)\n",
    "B = True\n",
    "C = (fav_color == 'green')\n",
    "D = False"
   ]
  },
  {
   "cell_type": "code",
   "execution_count": 23,
   "metadata": {},
   "outputs": [
    {
     "data": {
      "text/plain": [
       "True"
      ]
     },
     "execution_count": 23,
     "metadata": {},
     "output_type": "execute_result"
    }
   ],
   "source": [
    "\"\"\"Evaluation Sequence: not, and, or\"\"\"\n",
    "(A and (B or C)) == ((A and B) or (A and C))"
   ]
  },
  {
   "cell_type": "code",
   "execution_count": 24,
   "metadata": {},
   "outputs": [
    {
     "data": {
      "text/plain": [
       "True"
      ]
     },
     "execution_count": 24,
     "metadata": {},
     "output_type": "execute_result"
    }
   ],
   "source": [
    "((A or B) and (C or D)) == ((A and C) or (A and D) or (B and C) or (B and D))"
   ]
  },
  {
   "cell_type": "code",
   "execution_count": 25,
   "metadata": {},
   "outputs": [
    {
     "data": {
      "text/plain": [
       "True"
      ]
     },
     "execution_count": 25,
     "metadata": {},
     "output_type": "execute_result"
    }
   ],
   "source": [
    "\"\"\"and is like multiplication, or is like addition\"\"\"\n",
    "(A + B)*(C + D) == A*C + A*D + B*C + B*D"
   ]
  },
  {
   "cell_type": "code",
   "execution_count": 26,
   "metadata": {},
   "outputs": [
    {
     "data": {
      "text/plain": [
       "True"
      ]
     },
     "execution_count": 26,
     "metadata": {},
     "output_type": "execute_result"
    }
   ],
   "source": [
    "not (A or B) == (not A and not B)"
   ]
  },
  {
   "cell_type": "code",
   "execution_count": 27,
   "metadata": {},
   "outputs": [
    {
     "data": {
      "text/plain": [
       "True"
      ]
     },
     "execution_count": 27,
     "metadata": {},
     "output_type": "execute_result"
    }
   ],
   "source": [
    "not (A and B) == (not A or not B)"
   ]
  },
  {
   "cell_type": "code",
   "execution_count": 28,
   "metadata": {},
   "outputs": [
    {
     "data": {
      "text/plain": [
       "True"
      ]
     },
     "execution_count": 28,
     "metadata": {},
     "output_type": "execute_result"
    }
   ],
   "source": [
    "not (not A) == A"
   ]
  },
  {
   "cell_type": "code",
   "execution_count": 29,
   "metadata": {},
   "outputs": [
    {
     "data": {
      "text/plain": [
       "True"
      ]
     },
     "execution_count": 29,
     "metadata": {},
     "output_type": "execute_result"
    }
   ],
   "source": [
    "(A and B and (C or D)) == ((A and B and C) or (A and B and D)) == A*B*(C + D) == A*B*C + A*B*D"
   ]
  },
  {
   "cell_type": "code",
   "execution_count": 30,
   "metadata": {},
   "outputs": [
    {
     "data": {
      "text/plain": [
       "True"
      ]
     },
     "execution_count": 30,
     "metadata": {},
     "output_type": "execute_result"
    }
   ],
   "source": [
    "\"\"\"Special Rule for not: and changes to or\"\"\"\n",
    "(A or not (B and C)) == A or not B or not C"
   ]
  },
  {
   "cell_type": "code",
   "execution_count": 31,
   "metadata": {},
   "outputs": [],
   "source": [
    "\"\"\"Logic Gates\"\"\"\n",
    "True == 1 # Circuit On\n",
    "False == 0 # Circuit Off\n",
    "\n",
    "\"\"\"Example\"\"\"\n",
    "D = not ((A and B) or C)"
   ]
  },
  {
   "cell_type": "code",
   "execution_count": 32,
   "metadata": {},
   "outputs": [],
   "source": [
    "\"\"\"AND Gate\"\"\"\n",
    "C = A and B\n",
    "D = A and B and C"
   ]
  },
  {
   "cell_type": "code",
   "execution_count": 33,
   "metadata": {},
   "outputs": [],
   "source": [
    "\"\"\"OR Gate\"\"\"\n",
    "C = A or B\n",
    "D = A or B or C"
   ]
  },
  {
   "cell_type": "code",
   "execution_count": 34,
   "metadata": {},
   "outputs": [],
   "source": [
    "\"\"\"NOT Gate\"\"\"\n",
    "C = not A"
   ]
  },
  {
   "cell_type": "code",
   "execution_count": 37,
   "metadata": {},
   "outputs": [
    {
     "data": {
      "text/plain": [
       "True"
      ]
     },
     "execution_count": 37,
     "metadata": {},
     "output_type": "execute_result"
    }
   ],
   "source": [
    "\"\"\"Equivalent Circuits 1\"\"\"\n",
    "C = not (not A or not B)\n",
    "C == (not ((not A) and (not (not B)))) # Expansion\n",
    "C == A and B # Reduction\n",
    "\"\"\"If 2 or more functions have identical truth tables,\n",
    "the functions are identical\"\"\""
   ]
  },
  {
   "cell_type": "code",
   "execution_count": 38,
   "metadata": {},
   "outputs": [
    {
     "data": {
      "text/plain": [
       "True"
      ]
     },
     "execution_count": 38,
     "metadata": {},
     "output_type": "execute_result"
    }
   ],
   "source": [
    "\"\"\"Equivalent Circuits 2\"\"\"\n",
    "C = not (not A and not B)\n",
    "C == (not (not A or (not (not B))))\n",
    "C == A or B"
   ]
  },
  {
   "cell_type": "code",
   "execution_count": 50,
   "metadata": {},
   "outputs": [
    {
     "name": "stdout",
     "output_type": "stream",
     "text": [
      "True\n",
      "True\n",
      "True\n"
     ]
    }
   ],
   "source": [
    "\"\"\"Universal Gate: NAND\"\"\"\n",
    "def nand(x, y):\n",
    "    return not(x and y)\n",
    "\n",
    "\"\"\"NAND can be configured to act as AND, OR, NOT\"\"\"\n",
    "C = nand(A, B) # NOT gate\n",
    "print(C == (A and not B))\n",
    "C = nand(nand(A, B), B) # AND gate\n",
    "print(C == (A and B))\n",
    "C = nand(nand(A, B), nand(A, B)) # OR gate\n",
    "print(C == (A or B))"
   ]
  },
  {
   "cell_type": "code",
   "execution_count": null,
   "metadata": {},
   "outputs": [],
   "source": [
    "\"\"\"Exlusive-OR\"\"\"\n",
    "def xor(x, y):\n",
    "    return not(not(x or y) or (x and y))\n",
    "\n",
    "\"\"\"In many quantum computing architectures, an atomic xor is available\n",
    "but an assignment is not. The preferred way to compute A xor B is to\n",
    "xor B onto A in an atomic operation.\"\"\"\n",
    "\n",
    "A = xor(A, B)\n"
   ]
  }
 ],
 "metadata": {
  "kernelspec": {
   "display_name": "Python 3",
   "language": "python",
   "name": "python3"
  },
  "language_info": {
   "codemirror_mode": {
    "name": "ipython",
    "version": 3
   },
   "file_extension": ".py",
   "mimetype": "text/x-python",
   "name": "python",
   "nbconvert_exporter": "python",
   "pygments_lexer": "ipython3",
   "version": "3.8.2"
  }
 },
 "nbformat": 4,
 "nbformat_minor": 4
}
