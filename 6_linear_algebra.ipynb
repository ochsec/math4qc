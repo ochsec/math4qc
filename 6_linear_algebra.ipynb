{
 "cells": [
  {
   "cell_type": "code",
   "execution_count": 1,
   "metadata": {},
   "outputs": [],
   "source": [
    "import numpy as np\n",
    "\n",
    "# Matrices\n",
    "A = np.array([[1,2]])\n",
    "B = np.array([[1,2],[3,4],[5,6]])\n",
    "C = np.array([[0, 1+1j], [1-1j, 2]])"
   ]
  },
  {
   "cell_type": "code",
   "execution_count": 2,
   "metadata": {},
   "outputs": [
    {
     "name": "stdout",
     "output_type": "stream",
     "text": [
      "Shape of A: (1, 2)\n",
      "Shape of B: (3, 2)\n",
      "Shape of C: (2, 2)\n"
     ]
    }
   ],
   "source": [
    "\"\"\"Matrix Dimension\"\"\"\n",
    "\n",
    "print(f\"Shape of A: {np.shape(A)}\")\n",
    "print(f\"Shape of B: {np.shape(B)}\")\n",
    "print(f\"Shape of C: {np.shape(C)}\")"
   ]
  },
  {
   "cell_type": "code",
   "execution_count": 3,
   "metadata": {},
   "outputs": [
    {
     "name": "stdout",
     "output_type": "stream",
     "text": [
      "A + B =\n",
      "[[ 7]\n",
      " [13]]\n"
     ]
    }
   ],
   "source": [
    "\"\"\"Matrices can be added if they have the same dimension\"\"\"\n",
    "\n",
    "A = np.array([[10], [11]])\n",
    "B = np.array([[-3], [2]])\n",
    "\n",
    "print(\"A + B =\")\n",
    "print(A + B)"
   ]
  },
  {
   "cell_type": "code",
   "execution_count": 4,
   "metadata": {},
   "outputs": [
    {
     "name": "stdout",
     "output_type": "stream",
     "text": [
      "C + D =\n",
      "[[ 8.+1.j  6.+0.j]\n",
      " [10.-1.j  0.+2.j]]\n"
     ]
    }
   ],
   "source": [
    "C = np.array([[1+1j, 0], [2-1j, 1j]])\n",
    "D = np.array([[7, 6], [8, 1j]])\n",
    "\n",
    "print(\"C + D =\")\n",
    "print(C + D)"
   ]
  },
  {
   "cell_type": "code",
   "execution_count": 5,
   "metadata": {},
   "outputs": [
    {
     "name": "stdout",
     "output_type": "stream",
     "text": [
      "E + F =\n",
      "[[ 3.+1.j  2.+4.j]\n",
      " [ 2.+6.j  7.-1.j]\n",
      " [-2.-1.j  6.+1.j]]\n"
     ]
    }
   ],
   "source": [
    "E = np.array([[1j, 2], [2, -1j], [2-1j, 2+1j]])\n",
    "F = np.array([[3, 4j], [6j, 7], [-4, 4]])\n",
    "\n",
    "print(\"E + F =\")\n",
    "print(E + F)"
   ]
  },
  {
   "cell_type": "code",
   "execution_count": 6,
   "metadata": {},
   "outputs": [
    {
     "name": "stdout",
     "output_type": "stream",
     "text": [
      "2*A =\n",
      "[[20]\n",
      " [22]]\n"
     ]
    }
   ],
   "source": [
    "\"\"\"Scalar Multiplication\"\"\"\n",
    "\n",
    "print(f\"2*A =\")\n",
    "print(2*A)"
   ]
  },
  {
   "cell_type": "code",
   "execution_count": 7,
   "metadata": {},
   "outputs": [
    {
     "name": "stdout",
     "output_type": "stream",
     "text": [
      "(1+i)*F =\n",
      "[[ 3.+3.j -4.+4.j]\n",
      " [-6.+6.j  7.+7.j]\n",
      " [-4.-4.j  4.+4.j]]\n"
     ]
    }
   ],
   "source": [
    "print(\"(1+i)*F =\")\n",
    "print((1+1j)*F)"
   ]
  },
  {
   "cell_type": "code",
   "execution_count": 8,
   "metadata": {},
   "outputs": [
    {
     "name": "stdout",
     "output_type": "stream",
     "text": [
      "C x D =\n",
      "[[ 7.+7.j  6.+6.j]\n",
      " [14.+1.j 11.-6.j]]\n"
     ]
    }
   ],
   "source": [
    "\"\"\"Matrix Multiplication\"\"\"\n",
    "\n",
    "\"\"\"\n",
    "Matrix multiplication is essential to quantum computing. Every \n",
    "transformation of physical state in QC is modeled by matrix \n",
    "multiplication.\n",
    "\"\"\"\n",
    "\n",
    "print(\"C x D =\")\n",
    "print(C @ D)"
   ]
  },
  {
   "cell_type": "code",
   "execution_count": 9,
   "metadata": {},
   "outputs": [
    {
     "name": "stdout",
     "output_type": "stream",
     "text": [
      "Shape of A: (3, 2)\n",
      "Shape of B: (2, 3)\n",
      "[[ 14. +3.j -12. +0.j   2. +0.j]\n",
      " [  6. -7.j   0.+12.j   0. +8.j]\n",
      " [ 20. +4.j  -4. +4.j  14.+16.j]]\n",
      "Shape of AB: (3, 3)\n"
     ]
    }
   ],
   "source": [
    "\"\"\"Dimension of Product\n",
    "The dimension of the product matrix from mxn and nxp matrices is mxp.\n",
    "\"\"\"\n",
    "\n",
    "A = np.array([[1j, 2], [2, -1j], [2-1j, 2+1j]])\n",
    "B = np.array([[3, 4j, 6j], [7, -4, 4]])\n",
    "\n",
    "print(f\"Shape of A: {np.shape(A)}\")\n",
    "print(f\"Shape of B: {np.shape(B)}\")\n",
    "print(A @ B)\n",
    "print(f\"Shape of AB: {np.shape(A @ B)}\")"
   ]
  },
  {
   "cell_type": "code",
   "execution_count": 10,
   "metadata": {},
   "outputs": [
    {
     "data": {
      "text/plain": [
       "array([[23],\n",
       "       [53],\n",
       "       [83]])"
      ]
     },
     "execution_count": 10,
     "metadata": {},
     "output_type": "execute_result"
    }
   ],
   "source": [
    "\"\"\"Odd Shaped Matrices\"\"\"\n",
    "\n",
    "# Example\n",
    "np.array([[1,2], [3,4], [5,6]]) @ np.array([[7],[8]])"
   ]
  },
  {
   "cell_type": "code",
   "execution_count": 11,
   "metadata": {},
   "outputs": [
    {
     "data": {
      "text/plain": [
       "array([[ 4,  5,  6],\n",
       "       [ 8, 10, 12],\n",
       "       [12, 15, 18]])"
      ]
     },
     "execution_count": 11,
     "metadata": {},
     "output_type": "execute_result"
    }
   ],
   "source": [
    "\"\"\"Outer Product\"\"\"\n",
    "\n",
    "\"\"\"\n",
    "Multiplication of mx1 matrix with a 1xm matrix\n",
    "\"\"\"\n",
    "\n",
    "np.array([[1],[2],[3]]) @ np.array([[4,5,6]])"
   ]
  },
  {
   "cell_type": "code",
   "execution_count": 12,
   "metadata": {},
   "outputs": [
    {
     "data": {
      "text/plain": [
       "array([[20.+5.j]])"
      ]
     },
     "execution_count": 12,
     "metadata": {},
     "output_type": "execute_result"
    }
   ],
   "source": [
    "\"\"\"Inner Product\"\"\"\n",
    "\n",
    "\"\"\"\n",
    "Multiplication of 1xm matrix with mx1 matrix\n",
    "\"\"\"\n",
    "\n",
    "np.array([[1j,2j,3]]) @ np.array([[1+1j],[2],[7]])"
   ]
  },
  {
   "cell_type": "code",
   "execution_count": 13,
   "metadata": {},
   "outputs": [
    {
     "name": "stdout",
     "output_type": "stream",
     "text": [
      "AI =\n",
      "[[1 2]\n",
      " [3 4]]\n",
      "IA =\n",
      "[[1 2]\n",
      " [3 4]]\n"
     ]
    }
   ],
   "source": [
    "\"\"\"Identity Matrix\"\"\"\n",
    "\n",
    "\"\"\"\n",
    "Identity matrix is represented by I\n",
    "AI = A\n",
    "IA = A\n",
    "Matrix equivalent of the scalar number 1\n",
    "\n",
    "General form: The diagonal elements from top-left to bottom-right are\n",
    "1, the rest are 0.\n",
    "\"\"\"\n",
    "\n",
    "# 2x2 Identity matrix\n",
    "I = np.array([[1,0],[0,1]])\n",
    "A = np.array([[1,2],[3,4]])\n",
    "print(\"AI =\")\n",
    "print(A @ I)\n",
    "print(\"IA =\")\n",
    "print(I @ A)"
   ]
  },
  {
   "cell_type": "code",
   "execution_count": 14,
   "metadata": {},
   "outputs": [
    {
     "name": "stdout",
     "output_type": "stream",
     "text": [
      "Inverse of A: \n",
      "[[-2.   1. ]\n",
      " [ 1.5 -0.5]]\n",
      "AxAinv (with float rounding error):\n",
      "[[1.0000000e+00 0.0000000e+00]\n",
      " [8.8817842e-16 1.0000000e+00]]\n"
     ]
    }
   ],
   "source": [
    "\"\"\"Matrix Inverse\"\"\"\n",
    "\n",
    "# Example\n",
    "A = np.array([[1,2], [3,4]])\n",
    "AInv = np.linalg.inv(A)\n",
    "print(\"Inverse of A: \")\n",
    "print(AInv)\n",
    "\n",
    "\"\"\"AxAinv = I\"\"\"\n",
    "print(\"AxAinv (with float rounding error):\")\n",
    "print(A @ AInv)"
   ]
  },
  {
   "cell_type": "code",
   "execution_count": 15,
   "metadata": {},
   "outputs": [
    {
     "name": "stdout",
     "output_type": "stream",
     "text": [
      "ATrans:\n",
      "[[1 3]\n",
      " [2 4]]\n"
     ]
    }
   ],
   "source": [
    "\"\"\"Matrix Transpose\"\"\"\n",
    "\n",
    "\"\"\"\n",
    "- Denoted by superscript T\n",
    "- Interchange rows and columns\n",
    "- Mirror along the diagonal\n",
    "\"\"\"\n",
    "\n",
    "A = np.array([[1,2], [3,4]])\n",
    "ATrans = A.transpose()\n",
    "print(\"ATrans:\")\n",
    "print(ATrans)"
   ]
  },
  {
   "cell_type": "code",
   "execution_count": 16,
   "metadata": {},
   "outputs": [
    {
     "name": "stdout",
     "output_type": "stream",
     "text": [
      "AB =\n",
      "[[19 22]\n",
      " [43 50]]\n",
      "(AB)^T\n",
      "[[19 43]\n",
      " [22 50]]\n",
      "(AB)^T = B^T*A^T\n",
      "[[ True  True]\n",
      " [ True  True]]\n"
     ]
    }
   ],
   "source": [
    "\"\"\"Transpose of Product\"\"\"\n",
    "\n",
    "\"\"\"\n",
    "(AB)^T = B^TA^T\n",
    "\"\"\"\n",
    "\n",
    "A = np.array([[1,2], [3,4]])\n",
    "B = np.array([[5,6], [7,8]])\n",
    "\n",
    "print(\"AB =\")\n",
    "print(A @ B)\n",
    "print(\"(AB)^T\")\n",
    "print((A@B).transpose())\n",
    "print(\"(AB)^T = B^T*A^T\")\n",
    "print((A@B).transpose() == B.transpose()@A.transpose())"
   ]
  },
  {
   "cell_type": "code",
   "execution_count": 17,
   "metadata": {},
   "outputs": [
    {
     "name": "stdout",
     "output_type": "stream",
     "text": [
      "A: \n",
      "[[1.+1.j 0.+1.j]\n",
      " [2.+0.j 3.-1.j]]\n",
      "A*\n",
      "[[1.-1.j 0.-1.j]\n",
      " [2.-0.j 3.+1.j]]\n"
     ]
    }
   ],
   "source": [
    "\"\"\"Complex Conjugate of Matrices\"\"\"\n",
    "\n",
    "\"\"\"\n",
    "The complex conjugate of a matrix is the matrix that \n",
    "contains a complex conjugate for each element of the\n",
    "original matrix\n",
    "\"\"\"\n",
    "\n",
    "A = np.array([[1+1j, 1j], [2, 3-1j]])\n",
    "print(\"A: \")\n",
    "print(A)\n",
    "B = np.conj(A)\n",
    "print(\"A*\")\n",
    "print(B)"
   ]
  },
  {
   "cell_type": "code",
   "execution_count": 18,
   "metadata": {},
   "outputs": [
    {
     "name": "stdout",
     "output_type": "stream",
     "text": [
      "A: \n",
      "[[1.+1.j 0.+1.j]\n",
      " [2.+0.j 3.-1.j]]\n",
      "A*\n",
      "[[1.-1.j 0.-1.j]\n",
      " [2.-0.j 3.+1.j]]\n",
      "A+\n",
      "[[1.-1.j 2.-0.j]\n",
      " [0.-1.j 3.+1.j]]\n"
     ]
    }
   ],
   "source": [
    "\"\"\"Adjoint\"\"\"\n",
    "\n",
    "\"\"\"\n",
    "Transpose of the complex conjugate is called Adjoint\n",
    "A+ = (A*)^T = (A^T)*\n",
    "\"\"\"\n",
    "\n",
    "A = np.array([[1+1j, 1j], [2, 3-1j]])\n",
    "print(\"A: \")\n",
    "print(A)\n",
    "B = np.conj(A)\n",
    "print(\"A*\")\n",
    "print(B)\n",
    "C = B.transpose()\n",
    "print(\"A+\")\n",
    "print(C)"
   ]
  },
  {
   "cell_type": "code",
   "execution_count": 19,
   "metadata": {},
   "outputs": [
    {
     "name": "stdout",
     "output_type": "stream",
     "text": [
      "A:\n",
      "[[ 0.70710678  0.70710678]\n",
      " [ 0.70710678 -0.70710678]]\n",
      "AA+ (with float rounding error)\n",
      "[[ 1.00000000e+00 -2.23711432e-17]\n",
      " [-2.23711432e-17  1.00000000e+00]]\n"
     ]
    }
   ],
   "source": [
    "\"\"\"Unitary\"\"\"\n",
    "\n",
    "\"\"\"\n",
    "Matrixes that represent reversible transformations in\n",
    "Quantum Physics have a special property:\n",
    "A+ = A^-1 Unitary Matrix\n",
    "The Adjoint of a matrix is the inverse of the matrix\n",
    "\n",
    "If A is unitary, AA^-1 = AA+\n",
    "\"\"\"\n",
    "\n",
    "# Example of Unitary Matrix\n",
    "A = np.array([[1/np.sqrt(2), 1/np.sqrt(2)], [1/np.sqrt(2), -1/np.sqrt(2)]])\n",
    "print(\"A:\")\n",
    "print(A)\n",
    "print(\"AA+ (with float rounding error)\")\n",
    "B = (np.conj(A)).transpose()\n",
    "print(A@B)"
   ]
  },
  {
   "cell_type": "code",
   "execution_count": 20,
   "metadata": {},
   "outputs": [
    {
     "name": "stdout",
     "output_type": "stream",
     "text": [
      "A:\n",
      "[[1.+0.j 1.+1.j]\n",
      " [1.-1.j 2.+0.j]]\n",
      "A+\n",
      "[[1.-0.j 1.+1.j]\n",
      " [1.-1.j 2.-0.j]]\n"
     ]
    }
   ],
   "source": [
    "\"\"\"Hermitian\"\"\"\n",
    "\n",
    "\"\"\"\n",
    "Matrices that represent irreversible transformations\n",
    "in Quantum Physics have a special property:\n",
    "\n",
    "A+ = A Hermitian matrix\n",
    "\n",
    "The matrix is it's own adjoint\n",
    "\"\"\"\n",
    "\n",
    "# Example\n",
    "A = np.array([[1, 1+1j], [1-1j, 2]])\n",
    "print(\"A:\")\n",
    "print(A)\n",
    "B = (np.conj(A)).transpose()\n",
    "print(\"A+\")\n",
    "print(B)"
   ]
  },
  {
   "cell_type": "code",
   "execution_count": 21,
   "metadata": {},
   "outputs": [
    {
     "name": "stdout",
     "output_type": "stream",
     "text": [
      "A:\n",
      "[[0 1]\n",
      " [1 0]]\n",
      "A+\n",
      "[[0 1]\n",
      " [1 0]]\n",
      "A^-1\n",
      "[[0. 1.]\n",
      " [1. 0.]]\n"
     ]
    }
   ],
   "source": [
    "\"\"\"Hermitian & Unitary\"\"\"\n",
    "\n",
    "\"\"\"\n",
    "A matrix can be both Hermitian and Unitary\n",
    "\n",
    "A = A^-1 = A+\n",
    "\"\"\"\n",
    "\n",
    "\"\"\"\n",
    "A quantum computation usually has this structure:\n",
    "Initialize Quantum Bits --> Quantum Computation --> Measure Quantum Bits\n",
    "Irreversible Hermitian      Reversible Unitary      Irreversible Hermitian\n",
    "\"\"\"\n",
    "\n",
    "# Example\n",
    "A = np.array([[0, 1], [1, 0]])\n",
    "print(\"A:\")\n",
    "print(A)\n",
    "B = (np.conj(A)).transpose()\n",
    "print(\"A+\")\n",
    "print(B)\n",
    "C = np.linalg.inv(A)\n",
    "print(\"A^-1\")\n",
    "print(C)"
   ]
  },
  {
   "cell_type": "code",
   "execution_count": 22,
   "metadata": {},
   "outputs": [
    {
     "name": "stdout",
     "output_type": "stream",
     "text": [
      "v2: \n",
      "[0.8660254 0.5      ]\n"
     ]
    }
   ],
   "source": [
    "\"\"\"Vectors & Transformations\"\"\"\n",
    "\n",
    "\"\"\"\n",
    "A vector is a matrix with exactly 1 column\n",
    "\n",
    "Matrix transformation of a vector - rotation in 2D\n",
    "\n",
    "[x2, y2] = [[cos(n), -sin(n)],[sin(n), cos(n)]]*[x1, y1]\n",
    "\"\"\"\n",
    "\n",
    "# Example: transform (x,y) coordinates by 30 degrees\n",
    "v1 = np.array([1,0])\n",
    "a = np.pi / 6\n",
    "v2 = np.array([[np.cos(a), -np.sin(a)],[np.sin(a), np.cos(a)]]) @ v1\n",
    "print(\"v2: \")\n",
    "print(v2)"
   ]
  },
  {
   "cell_type": "code",
   "execution_count": 23,
   "metadata": {},
   "outputs": [
    {
     "name": "stdout",
     "output_type": "stream",
     "text": [
      "Example 1: vector [1,2] is reflected into [2,1]\n",
      "[2 1]\n",
      "Example 2: vector [3,3] on the y = x line is reflected into itself\n",
      "[3 3]\n",
      "Example 3: vector [2,-2] on the y = -x line is transformed onto \n",
      "another point on the same line\n",
      "[-2  2]\n"
     ]
    }
   ],
   "source": [
    "\"\"\"Special Directions\"\"\"\n",
    "\n",
    "\"\"\"Reflection around x\"\"\"\n",
    "print(\"Example 1: vector [1,2] is reflected into [2,1]\")\n",
    "reflect2D = np.array([[0,1],[1,0]])\n",
    "v1 = np.array([1,2])\n",
    "v2 = reflect2D @ v1\n",
    "print(v2)\n",
    "print(\"Example 2: vector [3,3] on the y = x line is reflected into itself\")\n",
    "v3 = np.array([3,3])\n",
    "v4 = reflect2D @ v3\n",
    "print(v4)\n",
    "print(\"\"\"Example 3: vector [2,-2] on the y = -x line is transformed onto \n",
    "another point on the same line\"\"\")\n",
    "v5 = np.array([2,-2])\n",
    "v6 = reflect2D @ v5\n",
    "print(v6)"
   ]
  },
  {
   "cell_type": "code",
   "execution_count": 24,
   "metadata": {},
   "outputs": [
    {
     "name": "stdout",
     "output_type": "stream",
     "text": [
      "Eigenvalue 1:\n",
      "[[2]\n",
      " [0]\n",
      " [0]]\n",
      "Eigenvalue 2:\n",
      "[[ 0]\n",
      " [-2]\n",
      " [ 1]]\n",
      "Eigenvalue 3:\n",
      "[[ 0]\n",
      " [11]\n",
      " [22]]\n",
      "\n"
     ]
    }
   ],
   "source": [
    "\"\"\"\n",
    "Special vectors for rotation about a circle of radius 1\n",
    "[[-1/sqrt(2)],[1/sqrt(2)]] - counter-clockwise\n",
    "[[1/sqrt(2)],[1/sqrt(2)]] - clockwise\n",
    "\n",
    "These 2 vectors are called the Eigenvectors of this transformation matrix: [[0,1],[1,0]]\n",
    "\"\"\"\n",
    "\n",
    "\"\"\"Eigenvectors and Eigenvalues\"\"\"\n",
    "\n",
    "\"\"\"\n",
    "MV = kV\n",
    "V = Eigenvector\n",
    "M = Transformation Matrix\n",
    "k = Eigenvalue (scalar)\n",
    "\n",
    "- An Eigenvector represents a direction\n",
    "- Usually normalized to have unit length\n",
    "- not every matrix will have Eigenvectors\n",
    "- Typically, the dimension D of a square matrix will have D Eigenvectors\n",
    "\n",
    "In Quantum Physics, Eigenvectors of Unitary & Hermitian transformation matrices reveal\n",
    "physical meanings of the transformations.\n",
    "\"\"\"\n",
    "\n",
    "# A is a 3x3 transformation matrix, so it should have 3 Eigenvectors\n",
    "A = np.array([[2,0,0],[0,3,4],[0,4,9]])\n",
    "# These Eigenvectors are not normalized (not on the unit circle)\n",
    "t = np.array([[1],[0],[0]]) # Eigenvector 1\n",
    "u = np.array([[0],[-2],[1]]) # Eigenvector 2\n",
    "v = np.array([[0],[1],[2]]) # Eigenvector 3\n",
    "# Eigenvalues from Eigenvectors\n",
    "x = A @ t\n",
    "y = A @ u\n",
    "z = A @ v\n",
    "print(\"Eigenvalue 1:\")\n",
    "print(x)\n",
    "print(\"Eigenvalue 2:\")\n",
    "print(y)\n",
    "print(\"Eigenvalue 3:\")\n",
    "print(z)\n",
    "\n",
    "print(\"\")"
   ]
  },
  {
   "cell_type": "code",
   "execution_count": 25,
   "metadata": {},
   "outputs": [
    {
     "name": "stdout",
     "output_type": "stream",
     "text": [
      "Factoring out Eigenvalue constants:\n",
      "Eigenvalue 1: 2\n",
      "Eigenvalue 2: 1\n",
      "Eigenvalue 3: 11\n"
     ]
    }
   ],
   "source": [
    "print(\"Factoring out Eigenvalue constants:\")\n",
    "print(\"Eigenvalue 1: 2\" ) # vector divisible by 2\n",
    "print(\"Eigenvalue 2: 1\") # not factorable\n",
    "print(\"Eigenvalue 3: 11\") # vector divisible by 11"
   ]
  },
  {
   "cell_type": "code",
   "execution_count": 26,
   "metadata": {},
   "outputs": [
    {
     "name": "stdout",
     "output_type": "stream",
     "text": [
      "[-0.5+0.8660254j -0.5-0.8660254j  1. +0.j       ]\n",
      "\n",
      "[[ 0.57735027+0.j   0.57735027-0.j  -0.57735027+0.j ]\n",
      " [-0.28867513+0.5j -0.28867513-0.5j -0.57735027+0.j ]\n",
      " [-0.28867513-0.5j -0.28867513+0.5j -0.57735027+0.j ]]\n",
      "\n"
     ]
    }
   ],
   "source": [
    "\"\"\"\n",
    "Eigenvectors and Eigenvalues are not always real numbers\n",
    "\"\"\"\n",
    "\n",
    "# Transformation matrix with non-real Eigenvalues\n",
    "B = [[0,1,0],[0,0,1],[1,0,0]]\n",
    "# This time use numpy method\n",
    "eigenvalues = np.linalg.eig(B)\n",
    "for e in eigenvalues:\n",
    "    print(f\"{e}\\n\")"
   ]
  },
  {
   "cell_type": "code",
   "execution_count": null,
   "metadata": {},
   "outputs": [],
   "source": []
  }
 ],
 "metadata": {
  "kernelspec": {
   "display_name": "Python 3",
   "language": "python",
   "name": "python3"
  },
  "language_info": {
   "codemirror_mode": {
    "name": "ipython",
    "version": 3
   },
   "file_extension": ".py",
   "mimetype": "text/x-python",
   "name": "python",
   "nbconvert_exporter": "python",
   "pygments_lexer": "ipython3",
   "version": "3.8.2"
  }
 },
 "nbformat": 4,
 "nbformat_minor": 4
}
