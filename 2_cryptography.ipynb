{
 "cells": [
  {
   "cell_type": "code",
   "execution_count": 1,
   "metadata": {},
   "outputs": [
    {
     "name": "stdout",
     "output_type": "stream",
     "text": [
      "[True, True, False, False, True, True, False, True, True, True]\n"
     ]
    }
   ],
   "source": [
    "\"\"\"\n",
    "What is cryptography?\n",
    "\n",
    "- Secure message over\n",
    "- Insecure channel\n",
    "\n",
    "Cryptography with XOR\n",
    "1. Convert the message into a sequence of bits\n",
    "    - Get a random sequence of bits that only the sender and receiver \n",
    "    know\n",
    "\"\"\"\n",
    "\n",
    "message = (1,0,0,1,0,1,1,0,1,0)\n",
    "shared_secret = (0,1,0,1,1,0,1,1,0,1)\n",
    "\n",
    "\"\"\"Exclusive-OR\"\"\"\n",
    "def xor(x, y):\n",
    "    return not(not(x or y) or (x and y))\n",
    "\n",
    "encrypted = []\n",
    "for x,y in zip(message,shared_secret):\n",
    "    encrypted.append(xor(x,y))\n",
    "    \n",
    "print(encrypted)"
   ]
  },
  {
   "cell_type": "code",
   "execution_count": 2,
   "metadata": {},
   "outputs": [
    {
     "name": "stdout",
     "output_type": "stream",
     "text": [
      "[True, False, False, True, False, True, True, False, True, False]\n"
     ]
    }
   ],
   "source": [
    "\"\"\"\n",
    "- The sender sends the secret to the receiver\n",
    "- The receiver XORs the shared_secret again\n",
    "\"\"\"\n",
    "\n",
    "\"\"\"\n",
    "- No discernable pattern IF the shared_secret is a new random sequence \n",
    "for each message.\n",
    "- As long as each secret is used only once, the protocol is unbreakable\n",
    "- Quantum encryption is PROVABLY UNBREAKABLE\n",
    "- As long as (1) the laws of physics do not change, (2) each shared\n",
    "secret is used only once, data encrypted with quantum protocols will\n",
    "remain secure.\n",
    "\"\"\"\n",
    "\n",
    "decrypted = []\n",
    "\n",
    "for x,y in zip(encrypted, shared_secret):\n",
    "    decrypted.append(xor(x,y))\n",
    "    \n",
    "print(decrypted)"
   ]
  }
 ],
 "metadata": {
  "kernelspec": {
   "display_name": "Python 3",
   "language": "python",
   "name": "python3"
  },
  "language_info": {
   "codemirror_mode": {
    "name": "ipython",
    "version": 3
   },
   "file_extension": ".py",
   "mimetype": "text/x-python",
   "name": "python",
   "nbconvert_exporter": "python",
   "pygments_lexer": "ipython3",
   "version": "3.8.2"
  }
 },
 "nbformat": 4,
 "nbformat_minor": 4
}
