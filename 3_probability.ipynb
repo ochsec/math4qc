{
 "cells": [
  {
   "cell_type": "code",
   "execution_count": 1,
   "metadata": {},
   "outputs": [],
   "source": [
    "\"\"\"Manipulating Probabilities with Algebra\"\"\"\n",
    "\n",
    "\"\"\"\n",
    "P(Boolean Expression)\n",
    "Examples:\n",
    "P((A and B) or C)\n",
    "P((A and B) or (not C) or D)\n",
    "\n",
    "Simplify P(Boolean Expression) in terms of P(A), P(B), P(C),...\n",
    "\n",
    "P(Mutually Exclusive Events)\n",
    "A => not B\n",
    "B => not A\n",
    "\n",
    "When A and B are mutually exclusive,\n",
    "P(A and B) = 0\n",
    "\n",
    "If A and B are independent, then\n",
    "P(A and B) = P(A)*P(B)\n",
    "\"\"\"\n",
    "\n",
    "A = 0.3 # A = \"Alice owns a red car\"\n",
    "B = 0.4 # B =\"Bob owns a blue car\"\n",
    "\n",
    "def independent_p(x, y):\n",
    "    return x * y\n",
    "\n",
    "print(independent_p(A, B))"
   ]
  },
  {
   "cell_type": "code",
   "execution_count": 2,
   "metadata": {},
   "outputs": [],
   "source": [
    "def mutually_exclusive_p(x, y):\n",
    "    return x + y\n",
    "\n",
    "A = 0.1 # Alice owns only one car and it is red\n",
    "B = 0.3 # Alice does not own a car\n",
    "\n",
    "# Alice own one red car or does not own a car\n",
    "print(mutually_exclusive_p(A, B))"
   ]
  },
  {
   "cell_type": "code",
   "execution_count": 3,
   "metadata": {},
   "outputs": [],
   "source": [
    "# Roll of dice\n",
    "A = B = C = D = E = F = 1/6\n",
    "# Probability of 1, 2 or 3\n",
    "print(mutually_exclusive_p(mutually_exclusive_p(A, B), C))"
   ]
  },
  {
   "cell_type": "code",
   "execution_count": 4,
   "metadata": {},
   "outputs": [
    {
     "name": "stdout",
     "output_type": "stream",
     "text": [
      "0.44\n"
     ]
    }
   ],
   "source": [
    "\"\"\"\n",
    "Probability of A or B is the same for mutually exclusive, independent\n",
    "and dependent variables.\n",
    "P(A or B) = P(A) + P(B) - P(A and B)\n",
    "\n",
    "Mutually Exclusive\n",
    "P(A or B) = P(A) + P(B)\n",
    "\n",
    "Indepedent\n",
    "P(A or B) = P(A) + P(B) - P(A)*P(B)\n",
    "\"\"\"\n",
    "\n",
    "def or_p(x, y):\n",
    "    return x + y - x*y\n",
    "\n",
    "A = 0.2 # A = \"Alice owns a red car\"\n",
    "B = 0.3 # B = \"Bob owns a blue car\"\n",
    "\n",
    "print(or_p(A, B))"
   ]
  },
  {
   "cell_type": "code",
   "execution_count": 5,
   "metadata": {},
   "outputs": [
    {
     "name": "stdout",
     "output_type": "stream",
     "text": [
      "Prob of 11: 0.25\n",
      "Prob of 10: 0.25\n",
      "Prob of 11 or 10: 0.5\n",
      "Prob of 11 or 10 = Prob 1: True\n"
     ]
    }
   ],
   "source": [
    "\"\"\"\n",
    "Probability of composite (dependent) events\n",
    "\n",
    "Events (not independent):\n",
    "A # Alice owns a red car\n",
    "B # Alice owns a blue car\n",
    "\n",
    "Given:\n",
    "P(A and B) = 0.3\n",
    "P(A and (not B)) = 0.2\n",
    "\n",
    "Find P(A)\n",
    "\n",
    "Mutually exclusive events:\n",
    "A and B # Alice owns a red car and a blue car\n",
    "A and (not B) # Alice owns a red car and not a blue car\n",
    "\n",
    "For any event A:\n",
    "A = A and True\n",
    "\n",
    "For any event B:\n",
    "B or (not B) = True\n",
    "\n",
    "P(A and True)\n",
    "= P(A and (B or (not B)))\n",
    "= P((A and B) or (A and (not B))) <-- mutually exclusive\n",
    "\n",
    "\"\"\"\n",
    "\n",
    "\n",
    "\"\"\"\n",
    "P(Bit Values)\n",
    "\n",
    "Two Bits\n",
    "Four mutually exclusive events:\n",
    "00, 01, 10, 11\n",
    "\"\"\"\n",
    "\n",
    "def bit_p(x):\n",
    "    return 1/2\n",
    "\n",
    "p_11 = bit_p(1) * bit_p(1)\n",
    "p_10 = bit_p(1) * bit_p(0)\n",
    "\n",
    "print(f\"Prob of 11: {p_11}\")\n",
    "print(f\"Prob of 10: {p_10}\")\n",
    "print(f\"Prob of 11 or 10: {bit_p(1) * bit_p(1) + bit_p(1) * bit_p(0)}\")\n",
    "print(f\"Prob of 11 or 10 = Prob 1: {(bit_p(1) * bit_p(1) + bit_p(1) * bit_p(0)) == bit_p(1)}\")"
   ]
  },
  {
   "cell_type": "code",
   "execution_count": 7,
   "metadata": {},
   "outputs": [
    {
     "name": "stdout",
     "output_type": "stream",
     "text": [
      "Prob of an orange purchase given an apple purchase: 0.25\n"
     ]
    }
   ],
   "source": [
    "\"\"\"Conditional Probability\"\"\"\n",
    "\n",
    "\"\"\"\n",
    "P(B|A) = P(A and B) / P(A)\n",
    "P(A|B) = P(A and B) / P(B)\n",
    "\"\"\"\n",
    "\n",
    "p_apple = 1/10 # probability purchased apple\n",
    "p_orange = 1/5 # probability purchased orange\n",
    "p_apple_and_orange = 1/20 # probability purchased apple and orange\n",
    "\n",
    "p_orange_given_apple = p_apple_and_orange / p_orange # probability purchased orange given an apple was purchased\n",
    "print(f\"Prob of an orange purchase given an apple purchase: {p_orange_given_apple}\")"
   ]
  },
  {
   "cell_type": "code",
   "execution_count": null,
   "metadata": {},
   "outputs": [],
   "source": []
  }
 ],
 "metadata": {
  "kernelspec": {
   "display_name": "Python 3",
   "language": "python",
   "name": "python3"
  },
  "language_info": {
   "codemirror_mode": {
    "name": "ipython",
    "version": 3
   },
   "file_extension": ".py",
   "mimetype": "text/x-python",
   "name": "python",
   "nbconvert_exporter": "python",
   "pygments_lexer": "ipython3",
   "version": "3.8.2"
  }
 },
 "nbformat": 4,
 "nbformat_minor": 4
}
