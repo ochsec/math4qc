{
 "cells": [
  {
   "cell_type": "code",
   "execution_count": 1,
   "metadata": {},
   "outputs": [],
   "source": [
    "import numpy as np\n",
    "\n",
    "# Matrices\n",
    "A = np.array([[1,2]])\n",
    "B = np.array([[1,2],[3,4],[5,6]])\n",
    "C = np.array([[0, 1+1j], [1-1j, 2]])"
   ]
  },
  {
   "cell_type": "code",
   "execution_count": 2,
   "metadata": {},
   "outputs": [
    {
     "name": "stdout",
     "output_type": "stream",
     "text": [
      "Shape of A: (1, 2)\n",
      "Shape of B: (3, 2)\n",
      "Shape of C: (2, 2)\n"
     ]
    }
   ],
   "source": [
    "\"\"\"Matrix Dimension\"\"\"\n",
    "\n",
    "print(f\"Shape of A: {np.shape(A)}\")\n",
    "print(f\"Shape of B: {np.shape(B)}\")\n",
    "print(f\"Shape of C: {np.shape(C)}\")"
   ]
  },
  {
   "cell_type": "code",
   "execution_count": 3,
   "metadata": {},
   "outputs": [
    {
     "name": "stdout",
     "output_type": "stream",
     "text": [
      "A + B =\n",
      "[[ 7]\n",
      " [13]]\n"
     ]
    }
   ],
   "source": [
    "\"\"\"Matrices can be added if they have the same dimension\"\"\"\n",
    "\n",
    "A = np.array([[10], [11]])\n",
    "B = np.array([[-3], [2]])\n",
    "\n",
    "print(\"A + B =\")\n",
    "print(A + B)"
   ]
  },
  {
   "cell_type": "code",
   "execution_count": 4,
   "metadata": {},
   "outputs": [
    {
     "name": "stdout",
     "output_type": "stream",
     "text": [
      "C + D =\n",
      "[[ 8.+1.j  6.+0.j]\n",
      " [10.-1.j  0.+2.j]]\n"
     ]
    }
   ],
   "source": [
    "C = np.array([[1+1j, 0], [2-1j, 1j]])\n",
    "D = np.array([[7, 6], [8, 1j]])\n",
    "\n",
    "print(\"C + D =\")\n",
    "print(C + D)"
   ]
  },
  {
   "cell_type": "code",
   "execution_count": 5,
   "metadata": {},
   "outputs": [
    {
     "name": "stdout",
     "output_type": "stream",
     "text": [
      "E + F =\n",
      "[[ 3.+1.j  2.+4.j]\n",
      " [ 2.+6.j  7.-1.j]\n",
      " [-2.-1.j  6.+1.j]]\n"
     ]
    }
   ],
   "source": [
    "E = np.array([[1j, 2], [2, -1j], [2-1j, 2+1j]])\n",
    "F = np.array([[3, 4j], [6j, 7], [-4, 4]])\n",
    "\n",
    "print(\"E + F =\")\n",
    "print(E + F)"
   ]
  },
  {
   "cell_type": "code",
   "execution_count": 6,
   "metadata": {},
   "outputs": [
    {
     "name": "stdout",
     "output_type": "stream",
     "text": [
      "2*A =\n",
      "[[20]\n",
      " [22]]\n"
     ]
    }
   ],
   "source": [
    "\"\"\"Scalar Multiplication\"\"\"\n",
    "\n",
    "print(f\"2*A =\")\n",
    "print(2*A)"
   ]
  },
  {
   "cell_type": "code",
   "execution_count": 7,
   "metadata": {},
   "outputs": [
    {
     "name": "stdout",
     "output_type": "stream",
     "text": [
      "(1+i)*F =\n",
      "[[ 3.+3.j -4.+4.j]\n",
      " [-6.+6.j  7.+7.j]\n",
      " [-4.-4.j  4.+4.j]]\n"
     ]
    }
   ],
   "source": [
    "print(\"(1+i)*F =\")\n",
    "print((1+1j)*F)"
   ]
  },
  {
   "cell_type": "code",
   "execution_count": 8,
   "metadata": {},
   "outputs": [
    {
     "name": "stdout",
     "output_type": "stream",
     "text": [
      "C x D =\n",
      "[[ 7.+7.j  6.+6.j]\n",
      " [14.+1.j 11.-6.j]]\n"
     ]
    }
   ],
   "source": [
    "\"\"\"Matrix Multiplication\"\"\"\n",
    "\n",
    "\"\"\"\n",
    "Matrix multiplication is essential to quantum computing. Every \n",
    "transformation of physical state in QC is modeled by matrix \n",
    "multiplication.\n",
    "\"\"\"\n",
    "\n",
    "print(\"C x D =\")\n",
    "print(C @ D)"
   ]
  },
  {
   "cell_type": "code",
   "execution_count": 9,
   "metadata": {},
   "outputs": [
    {
     "name": "stdout",
     "output_type": "stream",
     "text": [
      "Shape of A: (3, 2)\n",
      "Shape of B: (2, 3)\n",
      "[[ 14. +3.j -12. +0.j   2. +0.j]\n",
      " [  6. -7.j   0.+12.j   0. +8.j]\n",
      " [ 20. +4.j  -4. +4.j  14.+16.j]]\n",
      "Shape of AB: (3, 3)\n"
     ]
    }
   ],
   "source": [
    "\"\"\"Dimension of Product\n",
    "The dimension of the product matrix from mxn and nxp matrices is mxp.\n",
    "\"\"\"\n",
    "\n",
    "A = np.array([[1j, 2], [2, -1j], [2-1j, 2+1j]])\n",
    "B = np.array([[3, 4j, 6j], [7, -4, 4]])\n",
    "\n",
    "print(f\"Shape of A: {np.shape(A)}\")\n",
    "print(f\"Shape of B: {np.shape(B)}\")\n",
    "print(A @ B)\n",
    "print(f\"Shape of AB: {np.shape(A @ B)}\")"
   ]
  },
  {
   "cell_type": "code",
   "execution_count": 10,
   "metadata": {},
   "outputs": [
    {
     "data": {
      "text/plain": [
       "array([[23],\n",
       "       [53],\n",
       "       [83]])"
      ]
     },
     "execution_count": 10,
     "metadata": {},
     "output_type": "execute_result"
    }
   ],
   "source": [
    "\"\"\"Odd Shaped Matrices\"\"\"\n",
    "\n",
    "# Example\n",
    "np.array([[1,2], [3,4], [5,6]]) @ np.array([[7],[8]])"
   ]
  },
  {
   "cell_type": "code",
   "execution_count": 11,
   "metadata": {},
   "outputs": [
    {
     "data": {
      "text/plain": [
       "array([[ 4,  5,  6],\n",
       "       [ 8, 10, 12],\n",
       "       [12, 15, 18]])"
      ]
     },
     "execution_count": 11,
     "metadata": {},
     "output_type": "execute_result"
    }
   ],
   "source": [
    "\"\"\"Outer Product\"\"\"\n",
    "\n",
    "\"\"\"\n",
    "Multiplication of mx1 matrix with a 1xm matrix\n",
    "\"\"\"\n",
    "\n",
    "np.array([[1],[2],[3]]) @ np.array([[4,5,6]])"
   ]
  },
  {
   "cell_type": "code",
   "execution_count": 12,
   "metadata": {},
   "outputs": [
    {
     "data": {
      "text/plain": [
       "array([[20.+5.j]])"
      ]
     },
     "execution_count": 12,
     "metadata": {},
     "output_type": "execute_result"
    }
   ],
   "source": [
    "\"\"\"Inner Product\"\"\"\n",
    "\n",
    "\"\"\"\n",
    "Multiplication of 1xm matrix with mx1 matrix\n",
    "\"\"\"\n",
    "\n",
    "np.array([[1j,2j,3]]) @ np.array([[1+1j],[2],[7]])"
   ]
  },
  {
   "cell_type": "code",
   "execution_count": 13,
   "metadata": {},
   "outputs": [
    {
     "name": "stdout",
     "output_type": "stream",
     "text": [
      "AI =\n",
      "[[1 2]\n",
      " [3 4]]\n",
      "IA =\n",
      "[[1 2]\n",
      " [3 4]]\n"
     ]
    }
   ],
   "source": [
    "\"\"\"Identity Matrix\"\"\"\n",
    "\n",
    "\"\"\"\n",
    "Identity matrix is represented by I\n",
    "AI = A\n",
    "IA = A\n",
    "Matrix equivalent of the scalar number 1\n",
    "\n",
    "General form: The diagonal elements from top-left to bottom-right are\n",
    "1, the rest are 0.\n",
    "\"\"\"\n",
    "\n",
    "# 2x2 Identity matrix\n",
    "I = np.array([[1,0],[0,1]])\n",
    "A = np.array([[1,2],[3,4]])\n",
    "print(\"AI =\")\n",
    "print(A @ I)\n",
    "print(\"IA =\")\n",
    "print(I @ A)"
   ]
  },
  {
   "cell_type": "code",
   "execution_count": 14,
   "metadata": {},
   "outputs": [
    {
     "name": "stdout",
     "output_type": "stream",
     "text": [
      "Inverse of A: \n",
      "[[-2.   1. ]\n",
      " [ 1.5 -0.5]]\n",
      "AxAinv (with float rounding error):\n",
      "[[1.0000000e+00 0.0000000e+00]\n",
      " [8.8817842e-16 1.0000000e+00]]\n"
     ]
    }
   ],
   "source": [
    "\"\"\"Matrix Inverse\"\"\"\n",
    "\n",
    "# Example\n",
    "A = np.array([[1,2], [3,4]])\n",
    "AInv = np.linalg.inv(A)\n",
    "print(\"Inverse of A: \")\n",
    "print(AInv)\n",
    "\n",
    "\"\"\"AxAinv = I\"\"\"\n",
    "print(\"AxAinv (with float rounding error):\")\n",
    "print(A @ AInv)"
   ]
  },
  {
   "cell_type": "code",
   "execution_count": 15,
   "metadata": {},
   "outputs": [
    {
     "name": "stdout",
     "output_type": "stream",
     "text": [
      "ATrans:\n",
      "[[1 3]\n",
      " [2 4]]\n"
     ]
    }
   ],
   "source": [
    "\"\"\"Matrix Transpose\"\"\"\n",
    "\n",
    "\"\"\"\n",
    "- Denoted by superscript T\n",
    "- Interchange rows and columns\n",
    "- Mirror along the diagonal\n",
    "\"\"\"\n",
    "\n",
    "A = np.array([[1,2], [3,4]])\n",
    "ATrans = A.transpose()\n",
    "print(\"ATrans:\")\n",
    "print(ATrans)"
   ]
  },
  {
   "cell_type": "code",
   "execution_count": null,
   "metadata": {},
   "outputs": [],
   "source": []
  }
 ],
 "metadata": {
  "kernelspec": {
   "display_name": "Python 3",
   "language": "python",
   "name": "python3"
  },
  "language_info": {
   "codemirror_mode": {
    "name": "ipython",
    "version": 3
   },
   "file_extension": ".py",
   "mimetype": "text/x-python",
   "name": "python",
   "nbconvert_exporter": "python",
   "pygments_lexer": "ipython3",
   "version": "3.8.2"
  }
 },
 "nbformat": 4,
 "nbformat_minor": 4
}
